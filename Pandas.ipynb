{
  "nbformat": 4,
  "nbformat_minor": 0,
  "metadata": {
    "colab": {
      "provenance": [],
      "toc_visible": true,
      "include_colab_link": true
    },
    "kernelspec": {
      "name": "python3",
      "display_name": "Python 3"
    },
    "language_info": {
      "name": "python"
    }
  },
  "cells": [
    {
      "cell_type": "markdown",
      "metadata": {
        "id": "view-in-github",
        "colab_type": "text"
      },
      "source": [
        "<a href=\"https://colab.research.google.com/github/Caracolys/Practicing-AI-with-Python/blob/main/Pandas.ipynb\" target=\"_parent\"><img src=\"https://colab.research.google.com/assets/colab-badge.svg\" alt=\"Open In Colab\"/></a>"
      ]
    },
    {
      "cell_type": "markdown",
      "source": [
        "## Exercícios - Dados e Informações iniciais"
      ],
      "metadata": {
        "id": "eQLs3KeTdD_S"
      }
    },
    {
      "cell_type": "markdown",
      "source": [
        "Utilizando os dados de investimentos. Utilize o código para encontrar as seguintes informações:\n",
        "\n",
        " ) Visualize as 6 primeiras linhas de dados.\n",
        "\n",
        " ) Visualize a média de todos os campos possíveis.\n",
        "\n",
        " ) Visualize a média do campo quantidade.\n",
        "\n",
        " ) Encontre a maior quantidade (o maior valor do campo Quantidade).\n",
        "\n",
        " ) Encontre o maior PrecoCompraIndividual\n",
        "\n",
        " ) Encontre o menor PrecoAtualIndividual\n",
        "\n",
        " ) Encontre o maior número de elementos de tipos de investimentos (TipoInvestimento).\n",
        "\n",
        " ) Encontre a média de PrecoCompraIndividual.\n",
        "\n",
        " ) Calcule uma nova coluna de Resultado_Operacao (Valor_Total_Atual - Valor_Total_Investido)"
      ],
      "metadata": {
        "id": "xZVzneWldErH"
      }
    },
    {
      "cell_type": "markdown",
      "source": [
        "Configurações Iniciais"
      ],
      "metadata": {
        "id": "7SQQvqbjiCf5"
      }
    },
    {
      "cell_type": "code",
      "source": [
        "import pandas as pd"
      ],
      "metadata": {
        "id": "YrQsm7kfmGpN"
      },
      "execution_count": null,
      "outputs": []
    },
    {
      "cell_type": "code",
      "source": [
        "!pip install --upgrade gspread"
      ],
      "metadata": {
        "id": "ZpFZbl8RWRvk"
      },
      "execution_count": null,
      "outputs": []
    },
    {
      "cell_type": "code",
      "source": [
        "from google.colab import auth\n",
        "auth.authenticate_user()\n",
        "\n",
        "import gspread\n",
        "from google.auth import default\n",
        "creds, _ = default()\n",
        "\n",
        "gc = gspread.authorize(creds)"
      ],
      "metadata": {
        "id": "Z4vNu54MWmqi"
      },
      "execution_count": null,
      "outputs": []
    },
    {
      "cell_type": "code",
      "source": [
        "workbook = gc.open_by_key('1U7ZgleJQhjGNxdL4Cu2NTKPmJyv860EC09L4FuRKZTI')\n",
        "worksheet = workbook.worksheet(\"Plan1\")\n",
        "\n",
        "rows = worksheet.get_all_values()\n",
        "print(rows)\n",
        "\n",
        "import pandas as pd\n",
        "\n",
        "DF_Origem_Drive = pd.DataFrame.from_records(rows[1:], columns=rows[0])\n",
        "\n",
        "DF_Origem_Drive"
      ],
      "metadata": {
        "id": "Rbu9Mhu3WthS"
      },
      "execution_count": null,
      "outputs": []
    },
    {
      "cell_type": "markdown",
      "source": [
        "1 - Visualize as 6 primeiras linhas de dados\n",
        "\n"
      ],
      "metadata": {
        "id": "klYmXisqXcPW"
      }
    },
    {
      "cell_type": "code",
      "source": [
        "DF_Origem_Drive.head(6)"
      ],
      "metadata": {
        "colab": {
          "base_uri": "https://localhost:8080/",
          "height": 361
        },
        "id": "gv_Amk--W2Zl",
        "outputId": "246f007f-d419-405c-c2ce-b3f087ae16e7"
      },
      "execution_count": null,
      "outputs": [
        {
          "output_type": "execute_result",
          "data": {
            "text/plain": [
              "    NomeInvestimento  Ticker TipoInvestimentoGeral TipoInvestimento   Setor  \\\n",
              "0    Banco do Brasil   BBAS3        Renda Variável            Ações  Bancos   \n",
              "1   Itaú - ordinária   ITUB3        Renda Variável            Ações  Bancos   \n",
              "2  Itaú - prerencial   ITUB4        Renda Variável            Ações  Bancos   \n",
              "3             Itaúsa   ITSA4        Renda Variável            Ações  Bancos   \n",
              "4          Santander  SANB11        Renda Variável            Ações  Bancos   \n",
              "5           Bradesco   BBDC4        Renda Variável            Ações  Bancos   \n",
              "\n",
              "  NomeInvestidor        Custódia Quantidade PrecoCompraIndividual  \\\n",
              "0    Ana Almeida  Corretora Rico     100.00                 32.51   \n",
              "1    Ana Almeida  Corretora Rico      20.00                 20.11   \n",
              "2    Ana Almeida  Corretora Rico       1.00                 22.00   \n",
              "3    Ana Almeida  Corretora Rico      50.00                 10.02   \n",
              "4    Ana Almeida  Corretora Rico       5.00                 24.81   \n",
              "5    Ana Almeida  Corretora Rico       5.00                 24.51   \n",
              "\n",
              "  PrecoAtualIndividual PrecoSobreLucro ReceitaPorAcao Max52Sem Min52Sem  \\\n",
              "0                39.49             8.5            4.2     45.3    27.89   \n",
              "1                27.55             9.2            3.8     30.2    18.12   \n",
              "2                28.01             9.4            3.9     32.1     19.5   \n",
              "3                 9.95             7.8            2.5     12.5     7.88   \n",
              "4                30.36             8.9            4.5    31.75     22.3   \n",
              "5                19.83             6.7            3.2     26.8    16.75   \n",
              "\n",
              "     NumeroAcoes VolumeDiario  \n",
              "0  2,825,000,000   15,600,000  \n",
              "1  3,200,000,000   18,500,000  \n",
              "2  3,200,000,000   16,300,000  \n",
              "3  4,800,000,000   12,700,000  \n",
              "4  2,100,000,000   10,400,000  \n",
              "5  5,600,000,000   20,000,000  "
            ],
            "text/html": [
              "\n",
              "  <div id=\"df-9f46fdba-fc28-4f6d-8be2-366faec914f6\" class=\"colab-df-container\">\n",
              "    <div>\n",
              "<style scoped>\n",
              "    .dataframe tbody tr th:only-of-type {\n",
              "        vertical-align: middle;\n",
              "    }\n",
              "\n",
              "    .dataframe tbody tr th {\n",
              "        vertical-align: top;\n",
              "    }\n",
              "\n",
              "    .dataframe thead th {\n",
              "        text-align: right;\n",
              "    }\n",
              "</style>\n",
              "<table border=\"1\" class=\"dataframe\">\n",
              "  <thead>\n",
              "    <tr style=\"text-align: right;\">\n",
              "      <th></th>\n",
              "      <th>NomeInvestimento</th>\n",
              "      <th>Ticker</th>\n",
              "      <th>TipoInvestimentoGeral</th>\n",
              "      <th>TipoInvestimento</th>\n",
              "      <th>Setor</th>\n",
              "      <th>NomeInvestidor</th>\n",
              "      <th>Custódia</th>\n",
              "      <th>Quantidade</th>\n",
              "      <th>PrecoCompraIndividual</th>\n",
              "      <th>PrecoAtualIndividual</th>\n",
              "      <th>PrecoSobreLucro</th>\n",
              "      <th>ReceitaPorAcao</th>\n",
              "      <th>Max52Sem</th>\n",
              "      <th>Min52Sem</th>\n",
              "      <th>NumeroAcoes</th>\n",
              "      <th>VolumeDiario</th>\n",
              "    </tr>\n",
              "  </thead>\n",
              "  <tbody>\n",
              "    <tr>\n",
              "      <th>0</th>\n",
              "      <td>Banco do Brasil</td>\n",
              "      <td>BBAS3</td>\n",
              "      <td>Renda Variável</td>\n",
              "      <td>Ações</td>\n",
              "      <td>Bancos</td>\n",
              "      <td>Ana Almeida</td>\n",
              "      <td>Corretora Rico</td>\n",
              "      <td>100.00</td>\n",
              "      <td>32.51</td>\n",
              "      <td>39.49</td>\n",
              "      <td>8.5</td>\n",
              "      <td>4.2</td>\n",
              "      <td>45.3</td>\n",
              "      <td>27.89</td>\n",
              "      <td>2,825,000,000</td>\n",
              "      <td>15,600,000</td>\n",
              "    </tr>\n",
              "    <tr>\n",
              "      <th>1</th>\n",
              "      <td>Itaú - ordinária</td>\n",
              "      <td>ITUB3</td>\n",
              "      <td>Renda Variável</td>\n",
              "      <td>Ações</td>\n",
              "      <td>Bancos</td>\n",
              "      <td>Ana Almeida</td>\n",
              "      <td>Corretora Rico</td>\n",
              "      <td>20.00</td>\n",
              "      <td>20.11</td>\n",
              "      <td>27.55</td>\n",
              "      <td>9.2</td>\n",
              "      <td>3.8</td>\n",
              "      <td>30.2</td>\n",
              "      <td>18.12</td>\n",
              "      <td>3,200,000,000</td>\n",
              "      <td>18,500,000</td>\n",
              "    </tr>\n",
              "    <tr>\n",
              "      <th>2</th>\n",
              "      <td>Itaú - prerencial</td>\n",
              "      <td>ITUB4</td>\n",
              "      <td>Renda Variável</td>\n",
              "      <td>Ações</td>\n",
              "      <td>Bancos</td>\n",
              "      <td>Ana Almeida</td>\n",
              "      <td>Corretora Rico</td>\n",
              "      <td>1.00</td>\n",
              "      <td>22.00</td>\n",
              "      <td>28.01</td>\n",
              "      <td>9.4</td>\n",
              "      <td>3.9</td>\n",
              "      <td>32.1</td>\n",
              "      <td>19.5</td>\n",
              "      <td>3,200,000,000</td>\n",
              "      <td>16,300,000</td>\n",
              "    </tr>\n",
              "    <tr>\n",
              "      <th>3</th>\n",
              "      <td>Itaúsa</td>\n",
              "      <td>ITSA4</td>\n",
              "      <td>Renda Variável</td>\n",
              "      <td>Ações</td>\n",
              "      <td>Bancos</td>\n",
              "      <td>Ana Almeida</td>\n",
              "      <td>Corretora Rico</td>\n",
              "      <td>50.00</td>\n",
              "      <td>10.02</td>\n",
              "      <td>9.95</td>\n",
              "      <td>7.8</td>\n",
              "      <td>2.5</td>\n",
              "      <td>12.5</td>\n",
              "      <td>7.88</td>\n",
              "      <td>4,800,000,000</td>\n",
              "      <td>12,700,000</td>\n",
              "    </tr>\n",
              "    <tr>\n",
              "      <th>4</th>\n",
              "      <td>Santander</td>\n",
              "      <td>SANB11</td>\n",
              "      <td>Renda Variável</td>\n",
              "      <td>Ações</td>\n",
              "      <td>Bancos</td>\n",
              "      <td>Ana Almeida</td>\n",
              "      <td>Corretora Rico</td>\n",
              "      <td>5.00</td>\n",
              "      <td>24.81</td>\n",
              "      <td>30.36</td>\n",
              "      <td>8.9</td>\n",
              "      <td>4.5</td>\n",
              "      <td>31.75</td>\n",
              "      <td>22.3</td>\n",
              "      <td>2,100,000,000</td>\n",
              "      <td>10,400,000</td>\n",
              "    </tr>\n",
              "    <tr>\n",
              "      <th>5</th>\n",
              "      <td>Bradesco</td>\n",
              "      <td>BBDC4</td>\n",
              "      <td>Renda Variável</td>\n",
              "      <td>Ações</td>\n",
              "      <td>Bancos</td>\n",
              "      <td>Ana Almeida</td>\n",
              "      <td>Corretora Rico</td>\n",
              "      <td>5.00</td>\n",
              "      <td>24.51</td>\n",
              "      <td>19.83</td>\n",
              "      <td>6.7</td>\n",
              "      <td>3.2</td>\n",
              "      <td>26.8</td>\n",
              "      <td>16.75</td>\n",
              "      <td>5,600,000,000</td>\n",
              "      <td>20,000,000</td>\n",
              "    </tr>\n",
              "  </tbody>\n",
              "</table>\n",
              "</div>\n",
              "    <div class=\"colab-df-buttons\">\n",
              "\n",
              "  <div class=\"colab-df-container\">\n",
              "    <button class=\"colab-df-convert\" onclick=\"convertToInteractive('df-9f46fdba-fc28-4f6d-8be2-366faec914f6')\"\n",
              "            title=\"Convert this dataframe to an interactive table.\"\n",
              "            style=\"display:none;\">\n",
              "\n",
              "  <svg xmlns=\"http://www.w3.org/2000/svg\" height=\"24px\" viewBox=\"0 -960 960 960\">\n",
              "    <path d=\"M120-120v-720h720v720H120Zm60-500h600v-160H180v160Zm220 220h160v-160H400v160Zm0 220h160v-160H400v160ZM180-400h160v-160H180v160Zm440 0h160v-160H620v160ZM180-180h160v-160H180v160Zm440 0h160v-160H620v160Z\"/>\n",
              "  </svg>\n",
              "    </button>\n",
              "\n",
              "  <style>\n",
              "    .colab-df-container {\n",
              "      display:flex;\n",
              "      gap: 12px;\n",
              "    }\n",
              "\n",
              "    .colab-df-convert {\n",
              "      background-color: #E8F0FE;\n",
              "      border: none;\n",
              "      border-radius: 50%;\n",
              "      cursor: pointer;\n",
              "      display: none;\n",
              "      fill: #1967D2;\n",
              "      height: 32px;\n",
              "      padding: 0 0 0 0;\n",
              "      width: 32px;\n",
              "    }\n",
              "\n",
              "    .colab-df-convert:hover {\n",
              "      background-color: #E2EBFA;\n",
              "      box-shadow: 0px 1px 2px rgba(60, 64, 67, 0.3), 0px 1px 3px 1px rgba(60, 64, 67, 0.15);\n",
              "      fill: #174EA6;\n",
              "    }\n",
              "\n",
              "    .colab-df-buttons div {\n",
              "      margin-bottom: 4px;\n",
              "    }\n",
              "\n",
              "    [theme=dark] .colab-df-convert {\n",
              "      background-color: #3B4455;\n",
              "      fill: #D2E3FC;\n",
              "    }\n",
              "\n",
              "    [theme=dark] .colab-df-convert:hover {\n",
              "      background-color: #434B5C;\n",
              "      box-shadow: 0px 1px 3px 1px rgba(0, 0, 0, 0.15);\n",
              "      filter: drop-shadow(0px 1px 2px rgba(0, 0, 0, 0.3));\n",
              "      fill: #FFFFFF;\n",
              "    }\n",
              "  </style>\n",
              "\n",
              "    <script>\n",
              "      const buttonEl =\n",
              "        document.querySelector('#df-9f46fdba-fc28-4f6d-8be2-366faec914f6 button.colab-df-convert');\n",
              "      buttonEl.style.display =\n",
              "        google.colab.kernel.accessAllowed ? 'block' : 'none';\n",
              "\n",
              "      async function convertToInteractive(key) {\n",
              "        const element = document.querySelector('#df-9f46fdba-fc28-4f6d-8be2-366faec914f6');\n",
              "        const dataTable =\n",
              "          await google.colab.kernel.invokeFunction('convertToInteractive',\n",
              "                                                    [key], {});\n",
              "        if (!dataTable) return;\n",
              "\n",
              "        const docLinkHtml = 'Like what you see? Visit the ' +\n",
              "          '<a target=\"_blank\" href=https://colab.research.google.com/notebooks/data_table.ipynb>data table notebook</a>'\n",
              "          + ' to learn more about interactive tables.';\n",
              "        element.innerHTML = '';\n",
              "        dataTable['output_type'] = 'display_data';\n",
              "        await google.colab.output.renderOutput(dataTable, element);\n",
              "        const docLink = document.createElement('div');\n",
              "        docLink.innerHTML = docLinkHtml;\n",
              "        element.appendChild(docLink);\n",
              "      }\n",
              "    </script>\n",
              "  </div>\n",
              "\n",
              "\n",
              "    <div id=\"df-bba6d26a-f881-4d13-911a-3bb8d7dd58b4\">\n",
              "      <button class=\"colab-df-quickchart\" onclick=\"quickchart('df-bba6d26a-f881-4d13-911a-3bb8d7dd58b4')\"\n",
              "                title=\"Suggest charts\"\n",
              "                style=\"display:none;\">\n",
              "\n",
              "<svg xmlns=\"http://www.w3.org/2000/svg\" height=\"24px\"viewBox=\"0 0 24 24\"\n",
              "     width=\"24px\">\n",
              "    <g>\n",
              "        <path d=\"M19 3H5c-1.1 0-2 .9-2 2v14c0 1.1.9 2 2 2h14c1.1 0 2-.9 2-2V5c0-1.1-.9-2-2-2zM9 17H7v-7h2v7zm4 0h-2V7h2v10zm4 0h-2v-4h2v4z\"/>\n",
              "    </g>\n",
              "</svg>\n",
              "      </button>\n",
              "\n",
              "<style>\n",
              "  .colab-df-quickchart {\n",
              "      --bg-color: #E8F0FE;\n",
              "      --fill-color: #1967D2;\n",
              "      --hover-bg-color: #E2EBFA;\n",
              "      --hover-fill-color: #174EA6;\n",
              "      --disabled-fill-color: #AAA;\n",
              "      --disabled-bg-color: #DDD;\n",
              "  }\n",
              "\n",
              "  [theme=dark] .colab-df-quickchart {\n",
              "      --bg-color: #3B4455;\n",
              "      --fill-color: #D2E3FC;\n",
              "      --hover-bg-color: #434B5C;\n",
              "      --hover-fill-color: #FFFFFF;\n",
              "      --disabled-bg-color: #3B4455;\n",
              "      --disabled-fill-color: #666;\n",
              "  }\n",
              "\n",
              "  .colab-df-quickchart {\n",
              "    background-color: var(--bg-color);\n",
              "    border: none;\n",
              "    border-radius: 50%;\n",
              "    cursor: pointer;\n",
              "    display: none;\n",
              "    fill: var(--fill-color);\n",
              "    height: 32px;\n",
              "    padding: 0;\n",
              "    width: 32px;\n",
              "  }\n",
              "\n",
              "  .colab-df-quickchart:hover {\n",
              "    background-color: var(--hover-bg-color);\n",
              "    box-shadow: 0 1px 2px rgba(60, 64, 67, 0.3), 0 1px 3px 1px rgba(60, 64, 67, 0.15);\n",
              "    fill: var(--button-hover-fill-color);\n",
              "  }\n",
              "\n",
              "  .colab-df-quickchart-complete:disabled,\n",
              "  .colab-df-quickchart-complete:disabled:hover {\n",
              "    background-color: var(--disabled-bg-color);\n",
              "    fill: var(--disabled-fill-color);\n",
              "    box-shadow: none;\n",
              "  }\n",
              "\n",
              "  .colab-df-spinner {\n",
              "    border: 2px solid var(--fill-color);\n",
              "    border-color: transparent;\n",
              "    border-bottom-color: var(--fill-color);\n",
              "    animation:\n",
              "      spin 1s steps(1) infinite;\n",
              "  }\n",
              "\n",
              "  @keyframes spin {\n",
              "    0% {\n",
              "      border-color: transparent;\n",
              "      border-bottom-color: var(--fill-color);\n",
              "      border-left-color: var(--fill-color);\n",
              "    }\n",
              "    20% {\n",
              "      border-color: transparent;\n",
              "      border-left-color: var(--fill-color);\n",
              "      border-top-color: var(--fill-color);\n",
              "    }\n",
              "    30% {\n",
              "      border-color: transparent;\n",
              "      border-left-color: var(--fill-color);\n",
              "      border-top-color: var(--fill-color);\n",
              "      border-right-color: var(--fill-color);\n",
              "    }\n",
              "    40% {\n",
              "      border-color: transparent;\n",
              "      border-right-color: var(--fill-color);\n",
              "      border-top-color: var(--fill-color);\n",
              "    }\n",
              "    60% {\n",
              "      border-color: transparent;\n",
              "      border-right-color: var(--fill-color);\n",
              "    }\n",
              "    80% {\n",
              "      border-color: transparent;\n",
              "      border-right-color: var(--fill-color);\n",
              "      border-bottom-color: var(--fill-color);\n",
              "    }\n",
              "    90% {\n",
              "      border-color: transparent;\n",
              "      border-bottom-color: var(--fill-color);\n",
              "    }\n",
              "  }\n",
              "</style>\n",
              "\n",
              "      <script>\n",
              "        async function quickchart(key) {\n",
              "          const quickchartButtonEl =\n",
              "            document.querySelector('#' + key + ' button');\n",
              "          quickchartButtonEl.disabled = true;  // To prevent multiple clicks.\n",
              "          quickchartButtonEl.classList.add('colab-df-spinner');\n",
              "          try {\n",
              "            const charts = await google.colab.kernel.invokeFunction(\n",
              "                'suggestCharts', [key], {});\n",
              "          } catch (error) {\n",
              "            console.error('Error during call to suggestCharts:', error);\n",
              "          }\n",
              "          quickchartButtonEl.classList.remove('colab-df-spinner');\n",
              "          quickchartButtonEl.classList.add('colab-df-quickchart-complete');\n",
              "        }\n",
              "        (() => {\n",
              "          let quickchartButtonEl =\n",
              "            document.querySelector('#df-bba6d26a-f881-4d13-911a-3bb8d7dd58b4 button');\n",
              "          quickchartButtonEl.style.display =\n",
              "            google.colab.kernel.accessAllowed ? 'block' : 'none';\n",
              "        })();\n",
              "      </script>\n",
              "    </div>\n",
              "\n",
              "    </div>\n",
              "  </div>\n"
            ],
            "application/vnd.google.colaboratory.intrinsic+json": {
              "type": "dataframe",
              "variable_name": "DF_Origem_Drive",
              "summary": "{\n  \"name\": \"DF_Origem_Drive\",\n  \"rows\": 15,\n  \"fields\": [\n    {\n      \"column\": \"NomeInvestimento\",\n      \"properties\": {\n        \"dtype\": \"string\",\n        \"num_unique_values\": 15,\n        \"samples\": [\n          \"Engie\",\n          \"Copel\",\n          \"Banco do Brasil\"\n        ],\n        \"semantic_type\": \"\",\n        \"description\": \"\"\n      }\n    },\n    {\n      \"column\": \"Ticker\",\n      \"properties\": {\n        \"dtype\": \"string\",\n        \"num_unique_values\": 15,\n        \"samples\": [\n          \"EGIE3\",\n          \"CPLE3\",\n          \"BBAS3\"\n        ],\n        \"semantic_type\": \"\",\n        \"description\": \"\"\n      }\n    },\n    {\n      \"column\": \"TipoInvestimentoGeral\",\n      \"properties\": {\n        \"dtype\": \"category\",\n        \"num_unique_values\": 1,\n        \"samples\": [\n          \"Renda Vari\\u00e1vel\"\n        ],\n        \"semantic_type\": \"\",\n        \"description\": \"\"\n      }\n    },\n    {\n      \"column\": \"TipoInvestimento\",\n      \"properties\": {\n        \"dtype\": \"category\",\n        \"num_unique_values\": 1,\n        \"samples\": [\n          \"A\\u00e7\\u00f5es\"\n        ],\n        \"semantic_type\": \"\",\n        \"description\": \"\"\n      }\n    },\n    {\n      \"column\": \"Setor\",\n      \"properties\": {\n        \"dtype\": \"category\",\n        \"num_unique_values\": 5,\n        \"samples\": [\n          \"Saneamento\"\n        ],\n        \"semantic_type\": \"\",\n        \"description\": \"\"\n      }\n    },\n    {\n      \"column\": \"NomeInvestidor\",\n      \"properties\": {\n        \"dtype\": \"category\",\n        \"num_unique_values\": 1,\n        \"samples\": [\n          \"Ana Almeida\"\n        ],\n        \"semantic_type\": \"\",\n        \"description\": \"\"\n      }\n    },\n    {\n      \"column\": \"Cust\\u00f3dia\",\n      \"properties\": {\n        \"dtype\": \"category\",\n        \"num_unique_values\": 1,\n        \"samples\": [\n          \"Corretora Rico\"\n        ],\n        \"semantic_type\": \"\",\n        \"description\": \"\"\n      }\n    },\n    {\n      \"column\": \"Quantidade\",\n      \"properties\": {\n        \"dtype\": \"string\",\n        \"num_unique_values\": 8,\n        \"samples\": [\n          \"20.00\"\n        ],\n        \"semantic_type\": \"\",\n        \"description\": \"\"\n      }\n    },\n    {\n      \"column\": \"PrecoCompraIndividual\",\n      \"properties\": {\n        \"dtype\": \"string\",\n        \"num_unique_values\": 15,\n        \"samples\": [\n          \"40.51\"\n        ],\n        \"semantic_type\": \"\",\n        \"description\": \"\"\n      }\n    },\n    {\n      \"column\": \"PrecoAtualIndividual\",\n      \"properties\": {\n        \"dtype\": \"string\",\n        \"num_unique_values\": 15,\n        \"samples\": [\n          \"38.00\"\n        ],\n        \"semantic_type\": \"\",\n        \"description\": \"\"\n      }\n    },\n    {\n      \"column\": \"PrecoSobreLucro\",\n      \"properties\": {\n        \"dtype\": \"string\",\n        \"num_unique_values\": 14,\n        \"samples\": [\n          \"9.8\"\n        ],\n        \"semantic_type\": \"\",\n        \"description\": \"\"\n      }\n    },\n    {\n      \"column\": \"ReceitaPorAcao\",\n      \"properties\": {\n        \"dtype\": \"string\",\n        \"num_unique_values\": 15,\n        \"samples\": [\n          \"4.9\"\n        ],\n        \"semantic_type\": \"\",\n        \"description\": \"\"\n      }\n    },\n    {\n      \"column\": \"Max52Sem\",\n      \"properties\": {\n        \"dtype\": \"string\",\n        \"num_unique_values\": 15,\n        \"samples\": [\n          \"45.8\"\n        ],\n        \"semantic_type\": \"\",\n        \"description\": \"\"\n      }\n    },\n    {\n      \"column\": \"Min52Sem\",\n      \"properties\": {\n        \"dtype\": \"string\",\n        \"num_unique_values\": 15,\n        \"samples\": [\n          \"35.2\"\n        ],\n        \"semantic_type\": \"\",\n        \"description\": \"\"\n      }\n    },\n    {\n      \"column\": \"NumeroAcoes\",\n      \"properties\": {\n        \"dtype\": \"string\",\n        \"num_unique_values\": 13,\n        \"samples\": [\n          \"600,000,000\"\n        ],\n        \"semantic_type\": \"\",\n        \"description\": \"\"\n      }\n    },\n    {\n      \"column\": \"VolumeDiario\",\n      \"properties\": {\n        \"dtype\": \"string\",\n        \"num_unique_values\": 15,\n        \"samples\": [\n          \"2,500,000\"\n        ],\n        \"semantic_type\": \"\",\n        \"description\": \"\"\n      }\n    }\n  ]\n}"
            }
          },
          "metadata": {},
          "execution_count": 15
        }
      ]
    },
    {
      "cell_type": "markdown",
      "source": [
        "2 - Visualize a média de todos os campos possíveis.\n",
        "\n",
        "\n"
      ],
      "metadata": {
        "id": "kDoRG5hCXwpD"
      }
    },
    {
      "cell_type": "code",
      "source": [
        "display(DF_Origem_Drive.mean(numeric_only=True))"
      ],
      "metadata": {
        "colab": {
          "base_uri": "https://localhost:8080/",
          "height": 84
        },
        "id": "8mVNEf8jbZ7f",
        "outputId": "c9b713a5-7d54-49db-a6a1-2b480e268a32"
      },
      "execution_count": null,
      "outputs": [
        {
          "output_type": "display_data",
          "data": {
            "text/plain": [
              "Series([], dtype: float64)"
            ],
            "text/html": [
              "<div>\n",
              "<style scoped>\n",
              "    .dataframe tbody tr th:only-of-type {\n",
              "        vertical-align: middle;\n",
              "    }\n",
              "\n",
              "    .dataframe tbody tr th {\n",
              "        vertical-align: top;\n",
              "    }\n",
              "\n",
              "    .dataframe thead th {\n",
              "        text-align: right;\n",
              "    }\n",
              "</style>\n",
              "<table border=\"1\" class=\"dataframe\">\n",
              "  <thead>\n",
              "    <tr style=\"text-align: right;\">\n",
              "      <th></th>\n",
              "      <th>0</th>\n",
              "    </tr>\n",
              "  </thead>\n",
              "  <tbody>\n",
              "  </tbody>\n",
              "</table>\n",
              "</div><br><label><b>dtype:</b> float64</label>"
            ]
          },
          "metadata": {}
        }
      ]
    },
    {
      "cell_type": "markdown",
      "source": [
        "3 - Visualize a média do campo quantidade"
      ],
      "metadata": {
        "id": "kaZ7kkpmcLBD"
      }
    },
    {
      "cell_type": "code",
      "source": [
        "DF_Origem_Drive['Quantidade'] = pd.to_numeric(DF_Origem_Drive['Quantidade'], errors='coerce')\n",
        "media_quantidade = DF_Origem_Drive['Quantidade'].mean()\n",
        "print(\"Média da coluna 'Quantidade':\", media_quantidade)"
      ],
      "metadata": {
        "colab": {
          "base_uri": "https://localhost:8080/"
        },
        "id": "Ccgz06EWcSiP",
        "outputId": "12b6a37f-d176-4a88-db71-079cb3520f21"
      },
      "execution_count": null,
      "outputs": [
        {
          "output_type": "stream",
          "name": "stdout",
          "text": [
            "Média da coluna 'Quantidade': 35.13333333333333\n"
          ]
        }
      ]
    },
    {
      "cell_type": "markdown",
      "source": [
        "4 - Encontre a maior quantidade (o maior valor do campo Quantidade)"
      ],
      "metadata": {
        "id": "xvOuqzR0dTRW"
      }
    },
    {
      "cell_type": "code",
      "source": [
        "DF_Origem_Drive['Quantidade'].max()"
      ],
      "metadata": {
        "colab": {
          "base_uri": "https://localhost:8080/"
        },
        "id": "TaOBN_74cDVe",
        "outputId": "1969adf7-11fa-4629-8a46-75e3e2be79c6"
      },
      "execution_count": null,
      "outputs": [
        {
          "output_type": "execute_result",
          "data": {
            "text/plain": [
              "100.0"
            ]
          },
          "metadata": {},
          "execution_count": 22
        }
      ]
    },
    {
      "cell_type": "markdown",
      "source": [
        "5 - Encontre o maior PrecoCompraIndividual"
      ],
      "metadata": {
        "id": "9-uKMdhfdzfw"
      }
    },
    {
      "cell_type": "code",
      "source": [
        "DF_Origem_Drive['PrecoCompraIndividual'].max()"
      ],
      "metadata": {
        "colab": {
          "base_uri": "https://localhost:8080/",
          "height": 35
        },
        "id": "Q1h5OXi2d5LO",
        "outputId": "1a773330-9958-4c7d-b43b-2da22fd8e094"
      },
      "execution_count": null,
      "outputs": [
        {
          "output_type": "execute_result",
          "data": {
            "text/plain": [
              "'9.91'"
            ],
            "application/vnd.google.colaboratory.intrinsic+json": {
              "type": "string"
            }
          },
          "metadata": {},
          "execution_count": 23
        }
      ]
    },
    {
      "cell_type": "markdown",
      "source": [
        "6 - Encontre o menor PrecoAtualIndividual"
      ],
      "metadata": {
        "id": "QOTodNgTeM9A"
      }
    },
    {
      "cell_type": "code",
      "source": [
        "DF_Origem_Drive['PrecoAtualIndividual'].min()"
      ],
      "metadata": {
        "colab": {
          "base_uri": "https://localhost:8080/",
          "height": 35
        },
        "id": "yQb4x9F6eQrU",
        "outputId": "bfa7f0a0-73ef-4197-be2f-a8fa2aec464d"
      },
      "execution_count": null,
      "outputs": [
        {
          "output_type": "execute_result",
          "data": {
            "text/plain": [
              "'13.25'"
            ],
            "application/vnd.google.colaboratory.intrinsic+json": {
              "type": "string"
            }
          },
          "metadata": {},
          "execution_count": 24
        }
      ]
    },
    {
      "cell_type": "markdown",
      "source": [
        "7 - Encontre o maior número de elementos de tipos de investimentos (TipoInvestimento)"
      ],
      "metadata": {
        "id": "lIUsEEtKegwI"
      }
    },
    {
      "cell_type": "code",
      "source": [
        "DF_Origem_Drive['TipoInvestimento'].value_counts().head(1)"
      ],
      "metadata": {
        "colab": {
          "base_uri": "https://localhost:8080/",
          "height": 146
        },
        "id": "nWmf3kREenRH",
        "outputId": "b126ef87-edda-41d4-e9c7-f76aa2b81b60"
      },
      "execution_count": null,
      "outputs": [
        {
          "output_type": "execute_result",
          "data": {
            "text/plain": [
              "TipoInvestimento\n",
              "Ações    15\n",
              "Name: count, dtype: int64"
            ],
            "text/html": [
              "<div>\n",
              "<style scoped>\n",
              "    .dataframe tbody tr th:only-of-type {\n",
              "        vertical-align: middle;\n",
              "    }\n",
              "\n",
              "    .dataframe tbody tr th {\n",
              "        vertical-align: top;\n",
              "    }\n",
              "\n",
              "    .dataframe thead th {\n",
              "        text-align: right;\n",
              "    }\n",
              "</style>\n",
              "<table border=\"1\" class=\"dataframe\">\n",
              "  <thead>\n",
              "    <tr style=\"text-align: right;\">\n",
              "      <th></th>\n",
              "      <th>count</th>\n",
              "    </tr>\n",
              "    <tr>\n",
              "      <th>TipoInvestimento</th>\n",
              "      <th></th>\n",
              "    </tr>\n",
              "  </thead>\n",
              "  <tbody>\n",
              "    <tr>\n",
              "      <th>Ações</th>\n",
              "      <td>15</td>\n",
              "    </tr>\n",
              "  </tbody>\n",
              "</table>\n",
              "</div><br><label><b>dtype:</b> int64</label>"
            ]
          },
          "metadata": {},
          "execution_count": 25
        }
      ]
    },
    {
      "cell_type": "markdown",
      "source": [
        "8 - Encontre a média de PrecoCompraIndividual"
      ],
      "metadata": {
        "id": "UOUR3CmWeyvA"
      }
    },
    {
      "cell_type": "code",
      "source": [
        "DF_Origem_Drive['PrecoCompraIndividual'] = pd.to_numeric(DF_Origem_Drive['PrecoCompraIndividual'], errors='coerce')"
      ],
      "metadata": {
        "id": "7Tug2nSneqJu"
      },
      "execution_count": null,
      "outputs": []
    },
    {
      "cell_type": "code",
      "source": [
        "media_quantidade = DF_Origem_Drive['PrecoCompraIndividual'].mean()\n",
        "media_quantidade"
      ],
      "metadata": {
        "colab": {
          "base_uri": "https://localhost:8080/"
        },
        "id": "DbXRJcECe-2p",
        "outputId": "c52c49cc-d2e5-4cda-80ef-7843b3e4f92f"
      },
      "execution_count": null,
      "outputs": [
        {
          "output_type": "execute_result",
          "data": {
            "text/plain": [
              "np.float64(20.947333333333336)"
            ]
          },
          "metadata": {},
          "execution_count": 31
        }
      ]
    },
    {
      "cell_type": "markdown",
      "source": [
        "9 - Calcule uma nova coluna de Resultado_Operacao (Valor_Total_Atual - Valor_Total_Investido)"
      ],
      "metadata": {
        "id": "gCI_Z18kfKFl"
      }
    },
    {
      "cell_type": "code",
      "source": [
        "DF_Origem_Drive['PrecoAtualIndividual'] = pd.to_numeric(DF_Origem_Drive['PrecoAtualIndividual'], errors='coerce')\n",
        "DF_Origem_Drive['PrecoCompraIndividual'] = pd.to_numeric(DF_Origem_Drive['PrecoCompraIndividual'], errors='coerce')\n",
        "\n",
        "DF_Origem_Drive['Resultado_Operacao'] = DF_Origem_Drive['PrecoAtualIndividual'] - DF_Origem_Drive['PrecoCompraIndividual']\n",
        "\n",
        "DF_Origem_Drive.head()"
      ],
      "metadata": {
        "colab": {
          "base_uri": "https://localhost:8080/",
          "height": 313
        },
        "id": "sJ711yVjhncs",
        "outputId": "955e82af-fb53-4814-897a-e349368cf25a"
      },
      "execution_count": null,
      "outputs": [
        {
          "output_type": "execute_result",
          "data": {
            "text/plain": [
              "    NomeInvestimento  Ticker TipoInvestimentoGeral TipoInvestimento   Setor  \\\n",
              "0    Banco do Brasil   BBAS3        Renda Variável            Ações  Bancos   \n",
              "1   Itaú - ordinária   ITUB3        Renda Variável            Ações  Bancos   \n",
              "2  Itaú - prerencial   ITUB4        Renda Variável            Ações  Bancos   \n",
              "3             Itaúsa   ITSA4        Renda Variável            Ações  Bancos   \n",
              "4          Santander  SANB11        Renda Variável            Ações  Bancos   \n",
              "\n",
              "  NomeInvestidor        Custódia  Quantidade  PrecoCompraIndividual  \\\n",
              "0    Ana Almeida  Corretora Rico       100.0                  32.51   \n",
              "1    Ana Almeida  Corretora Rico        20.0                  20.11   \n",
              "2    Ana Almeida  Corretora Rico         1.0                  22.00   \n",
              "3    Ana Almeida  Corretora Rico        50.0                  10.02   \n",
              "4    Ana Almeida  Corretora Rico         5.0                  24.81   \n",
              "\n",
              "   PrecoAtualIndividual PrecoSobreLucro ReceitaPorAcao Max52Sem Min52Sem  \\\n",
              "0                 39.49             8.5            4.2     45.3    27.89   \n",
              "1                 27.55             9.2            3.8     30.2    18.12   \n",
              "2                 28.01             9.4            3.9     32.1     19.5   \n",
              "3                  9.95             7.8            2.5     12.5     7.88   \n",
              "4                 30.36             8.9            4.5    31.75     22.3   \n",
              "\n",
              "     NumeroAcoes VolumeDiario  Resultado_Operacao  \n",
              "0  2,825,000,000   15,600,000                6.98  \n",
              "1  3,200,000,000   18,500,000                7.44  \n",
              "2  3,200,000,000   16,300,000                6.01  \n",
              "3  4,800,000,000   12,700,000               -0.07  \n",
              "4  2,100,000,000   10,400,000                5.55  "
            ],
            "text/html": [
              "\n",
              "  <div id=\"df-fc0dfaae-9f61-404c-87bf-7def7d7c1c30\" class=\"colab-df-container\">\n",
              "    <div>\n",
              "<style scoped>\n",
              "    .dataframe tbody tr th:only-of-type {\n",
              "        vertical-align: middle;\n",
              "    }\n",
              "\n",
              "    .dataframe tbody tr th {\n",
              "        vertical-align: top;\n",
              "    }\n",
              "\n",
              "    .dataframe thead th {\n",
              "        text-align: right;\n",
              "    }\n",
              "</style>\n",
              "<table border=\"1\" class=\"dataframe\">\n",
              "  <thead>\n",
              "    <tr style=\"text-align: right;\">\n",
              "      <th></th>\n",
              "      <th>NomeInvestimento</th>\n",
              "      <th>Ticker</th>\n",
              "      <th>TipoInvestimentoGeral</th>\n",
              "      <th>TipoInvestimento</th>\n",
              "      <th>Setor</th>\n",
              "      <th>NomeInvestidor</th>\n",
              "      <th>Custódia</th>\n",
              "      <th>Quantidade</th>\n",
              "      <th>PrecoCompraIndividual</th>\n",
              "      <th>PrecoAtualIndividual</th>\n",
              "      <th>PrecoSobreLucro</th>\n",
              "      <th>ReceitaPorAcao</th>\n",
              "      <th>Max52Sem</th>\n",
              "      <th>Min52Sem</th>\n",
              "      <th>NumeroAcoes</th>\n",
              "      <th>VolumeDiario</th>\n",
              "      <th>Resultado_Operacao</th>\n",
              "    </tr>\n",
              "  </thead>\n",
              "  <tbody>\n",
              "    <tr>\n",
              "      <th>0</th>\n",
              "      <td>Banco do Brasil</td>\n",
              "      <td>BBAS3</td>\n",
              "      <td>Renda Variável</td>\n",
              "      <td>Ações</td>\n",
              "      <td>Bancos</td>\n",
              "      <td>Ana Almeida</td>\n",
              "      <td>Corretora Rico</td>\n",
              "      <td>100.0</td>\n",
              "      <td>32.51</td>\n",
              "      <td>39.49</td>\n",
              "      <td>8.5</td>\n",
              "      <td>4.2</td>\n",
              "      <td>45.3</td>\n",
              "      <td>27.89</td>\n",
              "      <td>2,825,000,000</td>\n",
              "      <td>15,600,000</td>\n",
              "      <td>6.98</td>\n",
              "    </tr>\n",
              "    <tr>\n",
              "      <th>1</th>\n",
              "      <td>Itaú - ordinária</td>\n",
              "      <td>ITUB3</td>\n",
              "      <td>Renda Variável</td>\n",
              "      <td>Ações</td>\n",
              "      <td>Bancos</td>\n",
              "      <td>Ana Almeida</td>\n",
              "      <td>Corretora Rico</td>\n",
              "      <td>20.0</td>\n",
              "      <td>20.11</td>\n",
              "      <td>27.55</td>\n",
              "      <td>9.2</td>\n",
              "      <td>3.8</td>\n",
              "      <td>30.2</td>\n",
              "      <td>18.12</td>\n",
              "      <td>3,200,000,000</td>\n",
              "      <td>18,500,000</td>\n",
              "      <td>7.44</td>\n",
              "    </tr>\n",
              "    <tr>\n",
              "      <th>2</th>\n",
              "      <td>Itaú - prerencial</td>\n",
              "      <td>ITUB4</td>\n",
              "      <td>Renda Variável</td>\n",
              "      <td>Ações</td>\n",
              "      <td>Bancos</td>\n",
              "      <td>Ana Almeida</td>\n",
              "      <td>Corretora Rico</td>\n",
              "      <td>1.0</td>\n",
              "      <td>22.00</td>\n",
              "      <td>28.01</td>\n",
              "      <td>9.4</td>\n",
              "      <td>3.9</td>\n",
              "      <td>32.1</td>\n",
              "      <td>19.5</td>\n",
              "      <td>3,200,000,000</td>\n",
              "      <td>16,300,000</td>\n",
              "      <td>6.01</td>\n",
              "    </tr>\n",
              "    <tr>\n",
              "      <th>3</th>\n",
              "      <td>Itaúsa</td>\n",
              "      <td>ITSA4</td>\n",
              "      <td>Renda Variável</td>\n",
              "      <td>Ações</td>\n",
              "      <td>Bancos</td>\n",
              "      <td>Ana Almeida</td>\n",
              "      <td>Corretora Rico</td>\n",
              "      <td>50.0</td>\n",
              "      <td>10.02</td>\n",
              "      <td>9.95</td>\n",
              "      <td>7.8</td>\n",
              "      <td>2.5</td>\n",
              "      <td>12.5</td>\n",
              "      <td>7.88</td>\n",
              "      <td>4,800,000,000</td>\n",
              "      <td>12,700,000</td>\n",
              "      <td>-0.07</td>\n",
              "    </tr>\n",
              "    <tr>\n",
              "      <th>4</th>\n",
              "      <td>Santander</td>\n",
              "      <td>SANB11</td>\n",
              "      <td>Renda Variável</td>\n",
              "      <td>Ações</td>\n",
              "      <td>Bancos</td>\n",
              "      <td>Ana Almeida</td>\n",
              "      <td>Corretora Rico</td>\n",
              "      <td>5.0</td>\n",
              "      <td>24.81</td>\n",
              "      <td>30.36</td>\n",
              "      <td>8.9</td>\n",
              "      <td>4.5</td>\n",
              "      <td>31.75</td>\n",
              "      <td>22.3</td>\n",
              "      <td>2,100,000,000</td>\n",
              "      <td>10,400,000</td>\n",
              "      <td>5.55</td>\n",
              "    </tr>\n",
              "  </tbody>\n",
              "</table>\n",
              "</div>\n",
              "    <div class=\"colab-df-buttons\">\n",
              "\n",
              "  <div class=\"colab-df-container\">\n",
              "    <button class=\"colab-df-convert\" onclick=\"convertToInteractive('df-fc0dfaae-9f61-404c-87bf-7def7d7c1c30')\"\n",
              "            title=\"Convert this dataframe to an interactive table.\"\n",
              "            style=\"display:none;\">\n",
              "\n",
              "  <svg xmlns=\"http://www.w3.org/2000/svg\" height=\"24px\" viewBox=\"0 -960 960 960\">\n",
              "    <path d=\"M120-120v-720h720v720H120Zm60-500h600v-160H180v160Zm220 220h160v-160H400v160Zm0 220h160v-160H400v160ZM180-400h160v-160H180v160Zm440 0h160v-160H620v160ZM180-180h160v-160H180v160Zm440 0h160v-160H620v160Z\"/>\n",
              "  </svg>\n",
              "    </button>\n",
              "\n",
              "  <style>\n",
              "    .colab-df-container {\n",
              "      display:flex;\n",
              "      gap: 12px;\n",
              "    }\n",
              "\n",
              "    .colab-df-convert {\n",
              "      background-color: #E8F0FE;\n",
              "      border: none;\n",
              "      border-radius: 50%;\n",
              "      cursor: pointer;\n",
              "      display: none;\n",
              "      fill: #1967D2;\n",
              "      height: 32px;\n",
              "      padding: 0 0 0 0;\n",
              "      width: 32px;\n",
              "    }\n",
              "\n",
              "    .colab-df-convert:hover {\n",
              "      background-color: #E2EBFA;\n",
              "      box-shadow: 0px 1px 2px rgba(60, 64, 67, 0.3), 0px 1px 3px 1px rgba(60, 64, 67, 0.15);\n",
              "      fill: #174EA6;\n",
              "    }\n",
              "\n",
              "    .colab-df-buttons div {\n",
              "      margin-bottom: 4px;\n",
              "    }\n",
              "\n",
              "    [theme=dark] .colab-df-convert {\n",
              "      background-color: #3B4455;\n",
              "      fill: #D2E3FC;\n",
              "    }\n",
              "\n",
              "    [theme=dark] .colab-df-convert:hover {\n",
              "      background-color: #434B5C;\n",
              "      box-shadow: 0px 1px 3px 1px rgba(0, 0, 0, 0.15);\n",
              "      filter: drop-shadow(0px 1px 2px rgba(0, 0, 0, 0.3));\n",
              "      fill: #FFFFFF;\n",
              "    }\n",
              "  </style>\n",
              "\n",
              "    <script>\n",
              "      const buttonEl =\n",
              "        document.querySelector('#df-fc0dfaae-9f61-404c-87bf-7def7d7c1c30 button.colab-df-convert');\n",
              "      buttonEl.style.display =\n",
              "        google.colab.kernel.accessAllowed ? 'block' : 'none';\n",
              "\n",
              "      async function convertToInteractive(key) {\n",
              "        const element = document.querySelector('#df-fc0dfaae-9f61-404c-87bf-7def7d7c1c30');\n",
              "        const dataTable =\n",
              "          await google.colab.kernel.invokeFunction('convertToInteractive',\n",
              "                                                    [key], {});\n",
              "        if (!dataTable) return;\n",
              "\n",
              "        const docLinkHtml = 'Like what you see? Visit the ' +\n",
              "          '<a target=\"_blank\" href=https://colab.research.google.com/notebooks/data_table.ipynb>data table notebook</a>'\n",
              "          + ' to learn more about interactive tables.';\n",
              "        element.innerHTML = '';\n",
              "        dataTable['output_type'] = 'display_data';\n",
              "        await google.colab.output.renderOutput(dataTable, element);\n",
              "        const docLink = document.createElement('div');\n",
              "        docLink.innerHTML = docLinkHtml;\n",
              "        element.appendChild(docLink);\n",
              "      }\n",
              "    </script>\n",
              "  </div>\n",
              "\n",
              "\n",
              "    <div id=\"df-d3c8fd0d-43aa-449f-b7fa-5e444087c349\">\n",
              "      <button class=\"colab-df-quickchart\" onclick=\"quickchart('df-d3c8fd0d-43aa-449f-b7fa-5e444087c349')\"\n",
              "                title=\"Suggest charts\"\n",
              "                style=\"display:none;\">\n",
              "\n",
              "<svg xmlns=\"http://www.w3.org/2000/svg\" height=\"24px\"viewBox=\"0 0 24 24\"\n",
              "     width=\"24px\">\n",
              "    <g>\n",
              "        <path d=\"M19 3H5c-1.1 0-2 .9-2 2v14c0 1.1.9 2 2 2h14c1.1 0 2-.9 2-2V5c0-1.1-.9-2-2-2zM9 17H7v-7h2v7zm4 0h-2V7h2v10zm4 0h-2v-4h2v4z\"/>\n",
              "    </g>\n",
              "</svg>\n",
              "      </button>\n",
              "\n",
              "<style>\n",
              "  .colab-df-quickchart {\n",
              "      --bg-color: #E8F0FE;\n",
              "      --fill-color: #1967D2;\n",
              "      --hover-bg-color: #E2EBFA;\n",
              "      --hover-fill-color: #174EA6;\n",
              "      --disabled-fill-color: #AAA;\n",
              "      --disabled-bg-color: #DDD;\n",
              "  }\n",
              "\n",
              "  [theme=dark] .colab-df-quickchart {\n",
              "      --bg-color: #3B4455;\n",
              "      --fill-color: #D2E3FC;\n",
              "      --hover-bg-color: #434B5C;\n",
              "      --hover-fill-color: #FFFFFF;\n",
              "      --disabled-bg-color: #3B4455;\n",
              "      --disabled-fill-color: #666;\n",
              "  }\n",
              "\n",
              "  .colab-df-quickchart {\n",
              "    background-color: var(--bg-color);\n",
              "    border: none;\n",
              "    border-radius: 50%;\n",
              "    cursor: pointer;\n",
              "    display: none;\n",
              "    fill: var(--fill-color);\n",
              "    height: 32px;\n",
              "    padding: 0;\n",
              "    width: 32px;\n",
              "  }\n",
              "\n",
              "  .colab-df-quickchart:hover {\n",
              "    background-color: var(--hover-bg-color);\n",
              "    box-shadow: 0 1px 2px rgba(60, 64, 67, 0.3), 0 1px 3px 1px rgba(60, 64, 67, 0.15);\n",
              "    fill: var(--button-hover-fill-color);\n",
              "  }\n",
              "\n",
              "  .colab-df-quickchart-complete:disabled,\n",
              "  .colab-df-quickchart-complete:disabled:hover {\n",
              "    background-color: var(--disabled-bg-color);\n",
              "    fill: var(--disabled-fill-color);\n",
              "    box-shadow: none;\n",
              "  }\n",
              "\n",
              "  .colab-df-spinner {\n",
              "    border: 2px solid var(--fill-color);\n",
              "    border-color: transparent;\n",
              "    border-bottom-color: var(--fill-color);\n",
              "    animation:\n",
              "      spin 1s steps(1) infinite;\n",
              "  }\n",
              "\n",
              "  @keyframes spin {\n",
              "    0% {\n",
              "      border-color: transparent;\n",
              "      border-bottom-color: var(--fill-color);\n",
              "      border-left-color: var(--fill-color);\n",
              "    }\n",
              "    20% {\n",
              "      border-color: transparent;\n",
              "      border-left-color: var(--fill-color);\n",
              "      border-top-color: var(--fill-color);\n",
              "    }\n",
              "    30% {\n",
              "      border-color: transparent;\n",
              "      border-left-color: var(--fill-color);\n",
              "      border-top-color: var(--fill-color);\n",
              "      border-right-color: var(--fill-color);\n",
              "    }\n",
              "    40% {\n",
              "      border-color: transparent;\n",
              "      border-right-color: var(--fill-color);\n",
              "      border-top-color: var(--fill-color);\n",
              "    }\n",
              "    60% {\n",
              "      border-color: transparent;\n",
              "      border-right-color: var(--fill-color);\n",
              "    }\n",
              "    80% {\n",
              "      border-color: transparent;\n",
              "      border-right-color: var(--fill-color);\n",
              "      border-bottom-color: var(--fill-color);\n",
              "    }\n",
              "    90% {\n",
              "      border-color: transparent;\n",
              "      border-bottom-color: var(--fill-color);\n",
              "    }\n",
              "  }\n",
              "</style>\n",
              "\n",
              "      <script>\n",
              "        async function quickchart(key) {\n",
              "          const quickchartButtonEl =\n",
              "            document.querySelector('#' + key + ' button');\n",
              "          quickchartButtonEl.disabled = true;  // To prevent multiple clicks.\n",
              "          quickchartButtonEl.classList.add('colab-df-spinner');\n",
              "          try {\n",
              "            const charts = await google.colab.kernel.invokeFunction(\n",
              "                'suggestCharts', [key], {});\n",
              "          } catch (error) {\n",
              "            console.error('Error during call to suggestCharts:', error);\n",
              "          }\n",
              "          quickchartButtonEl.classList.remove('colab-df-spinner');\n",
              "          quickchartButtonEl.classList.add('colab-df-quickchart-complete');\n",
              "        }\n",
              "        (() => {\n",
              "          let quickchartButtonEl =\n",
              "            document.querySelector('#df-d3c8fd0d-43aa-449f-b7fa-5e444087c349 button');\n",
              "          quickchartButtonEl.style.display =\n",
              "            google.colab.kernel.accessAllowed ? 'block' : 'none';\n",
              "        })();\n",
              "      </script>\n",
              "    </div>\n",
              "\n",
              "    </div>\n",
              "  </div>\n"
            ],
            "application/vnd.google.colaboratory.intrinsic+json": {
              "type": "dataframe",
              "variable_name": "DF_Origem_Drive",
              "summary": "{\n  \"name\": \"DF_Origem_Drive\",\n  \"rows\": 15,\n  \"fields\": [\n    {\n      \"column\": \"NomeInvestimento\",\n      \"properties\": {\n        \"dtype\": \"string\",\n        \"num_unique_values\": 15,\n        \"samples\": [\n          \"Engie\",\n          \"Copel\",\n          \"Banco do Brasil\"\n        ],\n        \"semantic_type\": \"\",\n        \"description\": \"\"\n      }\n    },\n    {\n      \"column\": \"Ticker\",\n      \"properties\": {\n        \"dtype\": \"string\",\n        \"num_unique_values\": 15,\n        \"samples\": [\n          \"EGIE3\",\n          \"CPLE3\",\n          \"BBAS3\"\n        ],\n        \"semantic_type\": \"\",\n        \"description\": \"\"\n      }\n    },\n    {\n      \"column\": \"TipoInvestimentoGeral\",\n      \"properties\": {\n        \"dtype\": \"category\",\n        \"num_unique_values\": 1,\n        \"samples\": [\n          \"Renda Vari\\u00e1vel\"\n        ],\n        \"semantic_type\": \"\",\n        \"description\": \"\"\n      }\n    },\n    {\n      \"column\": \"TipoInvestimento\",\n      \"properties\": {\n        \"dtype\": \"category\",\n        \"num_unique_values\": 1,\n        \"samples\": [\n          \"A\\u00e7\\u00f5es\"\n        ],\n        \"semantic_type\": \"\",\n        \"description\": \"\"\n      }\n    },\n    {\n      \"column\": \"Setor\",\n      \"properties\": {\n        \"dtype\": \"category\",\n        \"num_unique_values\": 5,\n        \"samples\": [\n          \"Saneamento\"\n        ],\n        \"semantic_type\": \"\",\n        \"description\": \"\"\n      }\n    },\n    {\n      \"column\": \"NomeInvestidor\",\n      \"properties\": {\n        \"dtype\": \"category\",\n        \"num_unique_values\": 1,\n        \"samples\": [\n          \"Ana Almeida\"\n        ],\n        \"semantic_type\": \"\",\n        \"description\": \"\"\n      }\n    },\n    {\n      \"column\": \"Cust\\u00f3dia\",\n      \"properties\": {\n        \"dtype\": \"category\",\n        \"num_unique_values\": 1,\n        \"samples\": [\n          \"Corretora Rico\"\n        ],\n        \"semantic_type\": \"\",\n        \"description\": \"\"\n      }\n    },\n    {\n      \"column\": \"Quantidade\",\n      \"properties\": {\n        \"dtype\": \"number\",\n        \"std\": 38.200349038545006,\n        \"min\": 1.0,\n        \"max\": 100.0,\n        \"num_unique_values\": 8,\n        \"samples\": [\n          20.0\n        ],\n        \"semantic_type\": \"\",\n        \"description\": \"\"\n      }\n    },\n    {\n      \"column\": \"PrecoCompraIndividual\",\n      \"properties\": {\n        \"dtype\": \"number\",\n        \"std\": 11.273811921355403,\n        \"min\": 3.8,\n        \"max\": 41.0,\n        \"num_unique_values\": 15,\n        \"samples\": [\n          40.51\n        ],\n        \"semantic_type\": \"\",\n        \"description\": \"\"\n      }\n    },\n    {\n      \"column\": \"PrecoAtualIndividual\",\n      \"properties\": {\n        \"dtype\": \"number\",\n        \"std\": 13.682262692294444,\n        \"min\": 3.63,\n        \"max\": 55.06,\n        \"num_unique_values\": 15,\n        \"samples\": [\n          38.0\n        ],\n        \"semantic_type\": \"\",\n        \"description\": \"\"\n      }\n    },\n    {\n      \"column\": \"PrecoSobreLucro\",\n      \"properties\": {\n        \"dtype\": \"string\",\n        \"num_unique_values\": 14,\n        \"samples\": [\n          \"9.8\"\n        ],\n        \"semantic_type\": \"\",\n        \"description\": \"\"\n      }\n    },\n    {\n      \"column\": \"ReceitaPorAcao\",\n      \"properties\": {\n        \"dtype\": \"string\",\n        \"num_unique_values\": 15,\n        \"samples\": [\n          \"4.9\"\n        ],\n        \"semantic_type\": \"\",\n        \"description\": \"\"\n      }\n    },\n    {\n      \"column\": \"Max52Sem\",\n      \"properties\": {\n        \"dtype\": \"string\",\n        \"num_unique_values\": 15,\n        \"samples\": [\n          \"45.8\"\n        ],\n        \"semantic_type\": \"\",\n        \"description\": \"\"\n      }\n    },\n    {\n      \"column\": \"Min52Sem\",\n      \"properties\": {\n        \"dtype\": \"string\",\n        \"num_unique_values\": 15,\n        \"samples\": [\n          \"35.2\"\n        ],\n        \"semantic_type\": \"\",\n        \"description\": \"\"\n      }\n    },\n    {\n      \"column\": \"NumeroAcoes\",\n      \"properties\": {\n        \"dtype\": \"string\",\n        \"num_unique_values\": 13,\n        \"samples\": [\n          \"600,000,000\"\n        ],\n        \"semantic_type\": \"\",\n        \"description\": \"\"\n      }\n    },\n    {\n      \"column\": \"VolumeDiario\",\n      \"properties\": {\n        \"dtype\": \"string\",\n        \"num_unique_values\": 15,\n        \"samples\": [\n          \"2,500,000\"\n        ],\n        \"semantic_type\": \"\",\n        \"description\": \"\"\n      }\n    },\n    {\n      \"column\": \"Resultado_Operacao\",\n      \"properties\": {\n        \"dtype\": \"number\",\n        \"std\": 6.074240458103149,\n        \"min\": -4.680000000000003,\n        \"max\": 16.779999999999998,\n        \"num_unique_values\": 15,\n        \"samples\": [\n          -2.509999999999998\n        ],\n        \"semantic_type\": \"\",\n        \"description\": \"\"\n      }\n    }\n  ]\n}"
            }
          },
          "metadata": {},
          "execution_count": 30
        }
      ]
    }
  ]
}